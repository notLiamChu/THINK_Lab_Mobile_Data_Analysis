{
 "cells": [
  {
   "attachments": {},
   "cell_type": "markdown",
   "metadata": {},
   "source": [
    "# GP_Kernel_Experiments for SatMobFusion"
   ]
  },
  {
   "attachments": {},
   "cell_type": "markdown",
   "metadata": {},
   "source": [
    "Essentially, we want to see how well conventional machine learning (ML) techniques work for this kind of data (mixed discrete and continuous masses). Specifically, we establish baselines using linear regression, RIDGE and LASSO regressions, logistic regression, and bootstrap aggregation (random forest). Then, we implement gaussian processes (GP) and compare performances."
   ]
  },
  {
   "attachments": {},
   "cell_type": "markdown",
   "metadata": {},
   "source": [
    "Our goal is to make predictions about the current cluster given certain information"
   ]
  },
  {
   "attachments": {},
   "cell_type": "markdown",
   "metadata": {},
   "source": [
    "## Data Loading & Pre-Processing"
   ]
  },
  {
   "cell_type": "code",
   "execution_count": 112,
   "metadata": {},
   "outputs": [],
   "source": [
    "import pandas as pd\n",
    "import matplotlib.pyplot as plt\n",
    "import sklearn\n",
    "from sklearn.model_selection import train_test_split\n",
    "\n",
    "from typing import Optional\n",
    "\n",
    "import math\n",
    "import numpy as np\n",
    "import gpytorch\n",
    "import torch\n",
    "from torch import nn, Tensor\n",
    "from torch.nn import functional as F\n",
    "\n",
    "from gpytorch.constraints.constraints import Interval, Positive\n",
    "from gpytorch.kernels.kernel import Kernel\n",
    "from gpytorch.priors.prior import Prior\n",
    "\n",
    "from gpytorch.models import ExactGP\n",
    "from gpytorch.likelihoods import DirichletClassificationLikelihood\n",
    "from gpytorch.means import ConstantMean\n",
    "from gpytorch.kernels import ScaleKernel, RBFKernel"
   ]
  },
  {
   "cell_type": "code",
   "execution_count": 4,
   "metadata": {},
   "outputs": [
    {
     "data": {
      "text/html": [
       "<div>\n",
       "<style scoped>\n",
       "    .dataframe tbody tr th:only-of-type {\n",
       "        vertical-align: middle;\n",
       "    }\n",
       "\n",
       "    .dataframe tbody tr th {\n",
       "        vertical-align: top;\n",
       "    }\n",
       "\n",
       "    .dataframe thead th {\n",
       "        text-align: right;\n",
       "    }\n",
       "</style>\n",
       "<table border=\"1\" class=\"dataframe\">\n",
       "  <thead>\n",
       "    <tr style=\"text-align: right;\">\n",
       "      <th></th>\n",
       "      <th>datetime</th>\n",
       "      <th>leaving_datetime</th>\n",
       "      <th>cluster</th>\n",
       "      <th>dist</th>\n",
       "      <th>last_one</th>\n",
       "      <th>last_two</th>\n",
       "      <th>last_three</th>\n",
       "      <th>activity_duration</th>\n",
       "      <th>last_three_activity_duration</th>\n",
       "      <th>last_three_start_time</th>\n",
       "      <th>last_three_end_time</th>\n",
       "      <th>last_three_lat</th>\n",
       "      <th>last_three_lng</th>\n",
       "      <th>last_three_dist</th>\n",
       "      <th>last_dist</th>\n",
       "      <th>second_last_dist</th>\n",
       "      <th>third_last_dist</th>\n",
       "      <th>last_start_time</th>\n",
       "      <th>second_last_start_time</th>\n",
       "      <th>third_last_start_time</th>\n",
       "      <th>last_end_time</th>\n",
       "      <th>second_last_end_time</th>\n",
       "      <th>third_last_end_time</th>\n",
       "      <th>last_activity_duration</th>\n",
       "      <th>second_last_activity_duration</th>\n",
       "      <th>third_last_activity_duration</th>\n",
       "      <th>leaving_hour</th>\n",
       "      <th>day_of_week</th>\n",
       "      <th>is_weekday</th>\n",
       "      <th>third_last_one</th>\n",
       "      <th>second_last_one</th>\n",
       "    </tr>\n",
       "  </thead>\n",
       "  <tbody>\n",
       "    <tr>\n",
       "      <th>0</th>\n",
       "      <td>2019-12-31 14:49:22</td>\n",
       "      <td>2019-12-31 15:58:02</td>\n",
       "      <td>0</td>\n",
       "      <td>58813.0</td>\n",
       "      <td>-1.0</td>\n",
       "      <td>(nan, nan)</td>\n",
       "      <td>(nan, nan, nan)</td>\n",
       "      <td>69</td>\n",
       "      <td>[nan, nan, nan]</td>\n",
       "      <td>(NaT, NaT, NaT)</td>\n",
       "      <td>(NaT, NaT, NaT)</td>\n",
       "      <td>(nan, nan, nan)</td>\n",
       "      <td>(nan, nan, nan)</td>\n",
       "      <td>(nan, nan, nan)</td>\n",
       "      <td>NaN</td>\n",
       "      <td>NaN</td>\n",
       "      <td>NaN</td>\n",
       "      <td>NaT</td>\n",
       "      <td>NaN</td>\n",
       "      <td>NaN</td>\n",
       "      <td>NaN</td>\n",
       "      <td>NaN</td>\n",
       "      <td>NaN</td>\n",
       "      <td>NaN</td>\n",
       "      <td>NaN</td>\n",
       "      <td>NaN</td>\n",
       "      <td>15</td>\n",
       "      <td>1</td>\n",
       "      <td>1</td>\n",
       "      <td>-1.0</td>\n",
       "      <td>-1.0</td>\n",
       "    </tr>\n",
       "    <tr>\n",
       "      <th>1</th>\n",
       "      <td>2019-12-31 17:01:04</td>\n",
       "      <td>2019-12-31 19:45:05</td>\n",
       "      <td>6</td>\n",
       "      <td>52032.0</td>\n",
       "      <td>0.0</td>\n",
       "      <td>(0.0, nan)</td>\n",
       "      <td>(0.0, nan, nan)</td>\n",
       "      <td>164</td>\n",
       "      <td>[69.0, nan, nan]</td>\n",
       "      <td>(Timestamp('2019-12-31 14:49:22'), NaT, NaT)</td>\n",
       "      <td>(Timestamp('2019-12-31 15:58:02'), NaT, NaT)</td>\n",
       "      <td>(47.22057343, nan, nan)</td>\n",
       "      <td>(-122.3467407, nan, nan)</td>\n",
       "      <td>(58813.0, nan, nan)</td>\n",
       "      <td>58813.0</td>\n",
       "      <td>NaN</td>\n",
       "      <td>NaN</td>\n",
       "      <td>2019-12-31 14:49:22</td>\n",
       "      <td>NaN</td>\n",
       "      <td>NaN</td>\n",
       "      <td>2019-12-31 15:58:02</td>\n",
       "      <td>NaN</td>\n",
       "      <td>NaN</td>\n",
       "      <td>69.0</td>\n",
       "      <td>NaN</td>\n",
       "      <td>NaN</td>\n",
       "      <td>19</td>\n",
       "      <td>1</td>\n",
       "      <td>1</td>\n",
       "      <td>-1.0</td>\n",
       "      <td>-1.0</td>\n",
       "    </tr>\n",
       "    <tr>\n",
       "      <th>2</th>\n",
       "      <td>2019-12-31 20:32:41</td>\n",
       "      <td>2020-01-01 01:35:33</td>\n",
       "      <td>3</td>\n",
       "      <td>38063.0</td>\n",
       "      <td>6.0</td>\n",
       "      <td>(6.0, 0.0)</td>\n",
       "      <td>(6.0, 0.0, nan)</td>\n",
       "      <td>303</td>\n",
       "      <td>[164.0, 69.0, nan]</td>\n",
       "      <td>(Timestamp('2019-12-31 17:01:04'), Timestamp('...</td>\n",
       "      <td>(Timestamp('2019-12-31 19:45:05'), Timestamp('...</td>\n",
       "      <td>(47.518939, 47.22057343, nan)</td>\n",
       "      <td>(-121.84213555, -122.3467407, nan)</td>\n",
       "      <td>(52032.0, 58813.0, nan)</td>\n",
       "      <td>52032.0</td>\n",
       "      <td>58813.0</td>\n",
       "      <td>NaN</td>\n",
       "      <td>2019-12-31 17:01:04</td>\n",
       "      <td>2019-12-31 14:49:22</td>\n",
       "      <td>NaN</td>\n",
       "      <td>2019-12-31 19:45:05</td>\n",
       "      <td>2019-12-31 15:58:02</td>\n",
       "      <td>NaN</td>\n",
       "      <td>164.0</td>\n",
       "      <td>69.0</td>\n",
       "      <td>NaN</td>\n",
       "      <td>1</td>\n",
       "      <td>2</td>\n",
       "      <td>1</td>\n",
       "      <td>-1.0</td>\n",
       "      <td>0.0</td>\n",
       "    </tr>\n",
       "    <tr>\n",
       "      <th>3</th>\n",
       "      <td>2020-01-01 02:41:51</td>\n",
       "      <td>2020-01-02 08:52:52</td>\n",
       "      <td>0</td>\n",
       "      <td>4705.0</td>\n",
       "      <td>3.0</td>\n",
       "      <td>(3.0, 6.0)</td>\n",
       "      <td>(3.0, 6.0, 0.0)</td>\n",
       "      <td>1811</td>\n",
       "      <td>[303.0, 164.0, 69.0]</td>\n",
       "      <td>(Timestamp('2019-12-31 20:32:41'), Timestamp('...</td>\n",
       "      <td>(Timestamp('2020-01-01 01:35:33'), Timestamp('...</td>\n",
       "      <td>(47.8473012, 47.518939, 47.22057343)</td>\n",
       "      <td>(-122.2763971, -121.84213555, -122.3467407)</td>\n",
       "      <td>(38063.0, 52032.0, 58813.0)</td>\n",
       "      <td>38063.0</td>\n",
       "      <td>52032.0</td>\n",
       "      <td>58813.0</td>\n",
       "      <td>2019-12-31 20:32:41</td>\n",
       "      <td>2019-12-31 17:01:04</td>\n",
       "      <td>2019-12-31 14:49:22</td>\n",
       "      <td>2020-01-01 01:35:33</td>\n",
       "      <td>2019-12-31 19:45:05</td>\n",
       "      <td>2019-12-31 15:58:02</td>\n",
       "      <td>303.0</td>\n",
       "      <td>164.0</td>\n",
       "      <td>69.0</td>\n",
       "      <td>8</td>\n",
       "      <td>3</td>\n",
       "      <td>1</td>\n",
       "      <td>0.0</td>\n",
       "      <td>6.0</td>\n",
       "    </tr>\n",
       "    <tr>\n",
       "      <th>4</th>\n",
       "      <td>2020-01-02 09:21:03</td>\n",
       "      <td>2020-01-02 14:45:51</td>\n",
       "      <td>1</td>\n",
       "      <td>4705.0</td>\n",
       "      <td>0.0</td>\n",
       "      <td>(0.0, 3.0)</td>\n",
       "      <td>(0.0, 3.0, 6.0)</td>\n",
       "      <td>325</td>\n",
       "      <td>[1811.0, 303.0, 164.0]</td>\n",
       "      <td>(Timestamp('2020-01-01 02:41:51'), Timestamp('...</td>\n",
       "      <td>(Timestamp('2020-01-02 08:52:52'), Timestamp('...</td>\n",
       "      <td>(47.22057343, 47.8473012, 47.518939)</td>\n",
       "      <td>(-122.3467407, -122.2763971, -121.84213555)</td>\n",
       "      <td>(4705.0, 38063.0, 52032.0)</td>\n",
       "      <td>4705.0</td>\n",
       "      <td>38063.0</td>\n",
       "      <td>52032.0</td>\n",
       "      <td>2020-01-01 02:41:51</td>\n",
       "      <td>2019-12-31 20:32:41</td>\n",
       "      <td>2019-12-31 17:01:04</td>\n",
       "      <td>2020-01-02 08:52:52</td>\n",
       "      <td>2020-01-01 01:35:33</td>\n",
       "      <td>2019-12-31 19:45:05</td>\n",
       "      <td>1811.0</td>\n",
       "      <td>303.0</td>\n",
       "      <td>164.0</td>\n",
       "      <td>14</td>\n",
       "      <td>3</td>\n",
       "      <td>1</td>\n",
       "      <td>6.0</td>\n",
       "      <td>3.0</td>\n",
       "    </tr>\n",
       "  </tbody>\n",
       "</table>\n",
       "</div>"
      ],
      "text/plain": [
       "              datetime    leaving_datetime  cluster     dist  last_one  \\\n",
       "0  2019-12-31 14:49:22 2019-12-31 15:58:02        0  58813.0      -1.0   \n",
       "1  2019-12-31 17:01:04 2019-12-31 19:45:05        6  52032.0       0.0   \n",
       "2  2019-12-31 20:32:41 2020-01-01 01:35:33        3  38063.0       6.0   \n",
       "3  2020-01-01 02:41:51 2020-01-02 08:52:52        0   4705.0       3.0   \n",
       "4  2020-01-02 09:21:03 2020-01-02 14:45:51        1   4705.0       0.0   \n",
       "\n",
       "     last_two       last_three  activity_duration  \\\n",
       "0  (nan, nan)  (nan, nan, nan)                 69   \n",
       "1  (0.0, nan)  (0.0, nan, nan)                164   \n",
       "2  (6.0, 0.0)  (6.0, 0.0, nan)                303   \n",
       "3  (3.0, 6.0)  (3.0, 6.0, 0.0)               1811   \n",
       "4  (0.0, 3.0)  (0.0, 3.0, 6.0)                325   \n",
       "\n",
       "  last_three_activity_duration  \\\n",
       "0              [nan, nan, nan]   \n",
       "1             [69.0, nan, nan]   \n",
       "2           [164.0, 69.0, nan]   \n",
       "3         [303.0, 164.0, 69.0]   \n",
       "4       [1811.0, 303.0, 164.0]   \n",
       "\n",
       "                               last_three_start_time  \\\n",
       "0                                    (NaT, NaT, NaT)   \n",
       "1       (Timestamp('2019-12-31 14:49:22'), NaT, NaT)   \n",
       "2  (Timestamp('2019-12-31 17:01:04'), Timestamp('...   \n",
       "3  (Timestamp('2019-12-31 20:32:41'), Timestamp('...   \n",
       "4  (Timestamp('2020-01-01 02:41:51'), Timestamp('...   \n",
       "\n",
       "                                 last_three_end_time  \\\n",
       "0                                    (NaT, NaT, NaT)   \n",
       "1       (Timestamp('2019-12-31 15:58:02'), NaT, NaT)   \n",
       "2  (Timestamp('2019-12-31 19:45:05'), Timestamp('...   \n",
       "3  (Timestamp('2020-01-01 01:35:33'), Timestamp('...   \n",
       "4  (Timestamp('2020-01-02 08:52:52'), Timestamp('...   \n",
       "\n",
       "                         last_three_lat  \\\n",
       "0                       (nan, nan, nan)   \n",
       "1               (47.22057343, nan, nan)   \n",
       "2         (47.518939, 47.22057343, nan)   \n",
       "3  (47.8473012, 47.518939, 47.22057343)   \n",
       "4  (47.22057343, 47.8473012, 47.518939)   \n",
       "\n",
       "                                last_three_lng              last_three_dist  \\\n",
       "0                              (nan, nan, nan)              (nan, nan, nan)   \n",
       "1                     (-122.3467407, nan, nan)          (58813.0, nan, nan)   \n",
       "2           (-121.84213555, -122.3467407, nan)      (52032.0, 58813.0, nan)   \n",
       "3  (-122.2763971, -121.84213555, -122.3467407)  (38063.0, 52032.0, 58813.0)   \n",
       "4  (-122.3467407, -122.2763971, -121.84213555)   (4705.0, 38063.0, 52032.0)   \n",
       "\n",
       "   last_dist  second_last_dist  third_last_dist     last_start_time  \\\n",
       "0        NaN               NaN              NaN                 NaT   \n",
       "1    58813.0               NaN              NaN 2019-12-31 14:49:22   \n",
       "2    52032.0           58813.0              NaN 2019-12-31 17:01:04   \n",
       "3    38063.0           52032.0          58813.0 2019-12-31 20:32:41   \n",
       "4     4705.0           38063.0          52032.0 2020-01-01 02:41:51   \n",
       "\n",
       "  second_last_start_time third_last_start_time        last_end_time  \\\n",
       "0                    NaN                   NaN                  NaN   \n",
       "1                    NaN                   NaN  2019-12-31 15:58:02   \n",
       "2    2019-12-31 14:49:22                   NaN  2019-12-31 19:45:05   \n",
       "3    2019-12-31 17:01:04   2019-12-31 14:49:22  2020-01-01 01:35:33   \n",
       "4    2019-12-31 20:32:41   2019-12-31 17:01:04  2020-01-02 08:52:52   \n",
       "\n",
       "  second_last_end_time  third_last_end_time  last_activity_duration  \\\n",
       "0                  NaN                  NaN                     NaN   \n",
       "1                  NaN                  NaN                    69.0   \n",
       "2  2019-12-31 15:58:02                  NaN                   164.0   \n",
       "3  2019-12-31 19:45:05  2019-12-31 15:58:02                   303.0   \n",
       "4  2020-01-01 01:35:33  2019-12-31 19:45:05                  1811.0   \n",
       "\n",
       "   second_last_activity_duration  third_last_activity_duration  leaving_hour  \\\n",
       "0                            NaN                           NaN            15   \n",
       "1                            NaN                           NaN            19   \n",
       "2                           69.0                           NaN             1   \n",
       "3                          164.0                          69.0             8   \n",
       "4                          303.0                         164.0            14   \n",
       "\n",
       "   day_of_week  is_weekday  third_last_one  second_last_one  \n",
       "0            1           1            -1.0             -1.0  \n",
       "1            1           1            -1.0             -1.0  \n",
       "2            2           1            -1.0              0.0  \n",
       "3            3           1             0.0              6.0  \n",
       "4            3           1             6.0              3.0  "
      ]
     },
     "execution_count": 4,
     "metadata": {},
     "output_type": "execute_result"
    }
   ],
   "source": [
    "# Run this line every time in order to refresh the data\n",
    "df = pd.read_csv('processed/user_0162bdca5925e11a37a48c507453734045b5d62cca0d6abc8300993dfbf8b69e.csv')\n",
    "\n",
    "# Add additional corrections as needed\n",
    "df['last_one'] = df['last_one'].fillna(-1)\n",
    "df['last_two'] = df['last_two'].apply(lambda x: np.fromstring(x[1 : len(x) - 1], dtype = float, sep = ','))\n",
    "df['last_three'] = df['last_three'].apply(lambda x: np.fromstring(x[1 : len(x) - 1], dtype = float, sep = ','))\n",
    "df['last_three_activity_duration'] = df['last_three_activity_duration'].apply(lambda x: np.fromstring(x[1 : len(x) - 1], dtype = float, sep = ','))\n",
    "df['last_start_time'] = pd.to_datetime(df['last_start_time'])\n",
    "df['leaving_datetime'] = pd.to_datetime(df['leaving_datetime'])\n",
    "\n",
    "# Add additional features\n",
    "df['leaving_hour'] = df['leaving_datetime'].dt.hour.astype(int)\n",
    "df['day_of_week'] = df['leaving_datetime'].dt.dayofweek # Monday = 0, Sunday = 6\n",
    "df['is_weekday'] = df['day_of_week'].apply(lambda x: 1 if x < 5 else 0)\n",
    "\n",
    "# Note that lists are non-hashable, so we need to convert them to tuples\n",
    "df['last_three'] = df['last_three'].apply(lambda x: tuple(x))\n",
    "df['last_two'] = df['last_two'].apply(lambda x: tuple(x))\n",
    "\n",
    "df['third_last_one'] = df['last_three'].apply(lambda x: x[2]).fillna(-1)\n",
    "df['second_last_one'] = df['last_two'].apply(lambda x: x[1]).fillna(-1)\n",
    "\n",
    "# View the data\n",
    "pd.options.display.max_columns = None\n",
    "df.head()"
   ]
  },
  {
   "attachments": {},
   "cell_type": "markdown",
   "metadata": {},
   "source": [
    "## Encoding/Decoding"
   ]
  },
  {
   "cell_type": "code",
   "execution_count": 300,
   "metadata": {},
   "outputs": [],
   "source": [
    "# Create a function that encodes the origin-destination combinations\n",
    "def encode_combinations(row, col1, col2, combinations_dict):\n",
    "    # Get the origin-destination combination\n",
    "    combination = row[[col1, col2]].values.tolist()\n",
    "    # Get the index of the combination\n",
    "    index = list(combinations_dict.values()).index(combination)\n",
    "    # Return the index\n",
    "    return index\n",
    "\n",
    "# Create a function that decodes the origin-destination combinations\n",
    "def decode_combinations(row, combinations_dict):\n",
    "    # Get the index\n",
    "    index = row['combinations']\n",
    "    # Get the origin-destination combination\n",
    "    combination = combinations_dict[index]\n",
    "    # Return the combination\n",
    "    return combination"
   ]
  },
  {
   "attachments": {},
   "cell_type": "markdown",
   "metadata": {},
   "source": [
    "## Hamming Kernel Code"
   ]
  },
  {
   "attachments": {},
   "cell_type": "markdown",
   "metadata": {},
   "source": [
    "## Random Forest Baseline"
   ]
  },
  {
   "cell_type": "code",
   "execution_count": 336,
   "metadata": {},
   "outputs": [],
   "source": [
    "import scipy.stats \n",
    "from sklearn.tree import DecisionTreeClassifier\n",
    "from sklearn.metrics import accuracy_score\n",
    "\n",
    "# The features we wish to learn from\n",
    "features = ['last_one', 'second_last_one', 'third_last_one', 'leaving_hour', 'day_of_week']\n",
    "\n",
    "class RandomForest: \n",
    "    \"\"\"\n",
    "    A majority vote random forest classifier\n",
    "    \"\"\"\n",
    "    \n",
    "    def __init__(self, num_trees, max_depth=None):\n",
    "        \"\"\"\n",
    "        Constructs a RandomForest that uses the given number of trees, each with a \n",
    "        max depth of max_depth.\n",
    "        \"\"\"\n",
    "        self._trees = [\n",
    "            DecisionTreeClassifier(max_depth=max_depth, random_state=1) \n",
    "            for i in range(num_trees)\n",
    "        ]\n",
    "        \n",
    "    def fit(self, X):\n",
    "        \"\"\"\n",
    "        Takes an input dataset X and trains each tree on a random subset of the data.\n",
    "        Sampling is done with replacement.\n",
    "        \"\"\"\n",
    "\n",
    "        for mini_tree in self._trees:\n",
    "            mini_data = X.iloc[np.random.randint(0, X.shape[0], X.shape[0])]\n",
    "            mini_tree.fit(mini_data[features], mini_data['cluster'])\n",
    "            \n",
    "    def predict(self, X):\n",
    "        \"\"\"\n",
    "        Takes an input dataset X and returns the predictions for each example in X.\n",
    "        \"\"\"\n",
    "        # Builds up a 2d array with n rows and T columns\n",
    "        # where n is the number of points to classify and T is the number of trees\n",
    "        predictions = np.zeros((len(X), len(self._trees)))\n",
    "        for i, tree in enumerate(self._trees):\n",
    "            # Make predictions using the current tree\n",
    "            preds = tree.predict(X)\n",
    "            \n",
    "            # Store those predictions in ith column of the 2d array\n",
    "            predictions[:, i] = preds\n",
    "            \n",
    "        # For each row of predictions, find the most frequent label (axis=1 means across columns)\n",
    "        return scipy.stats.mode(predictions, axis=1, keepdims=False)[0]"
   ]
  },
  {
   "cell_type": "code",
   "execution_count": 337,
   "metadata": {},
   "outputs": [
    {
     "name": "stdout",
     "output_type": "stream",
     "text": [
      "x_train: (369, 5)\n",
      "x_test: (93, 5)\n",
      "y_train: (369,)\n",
      "y_actual: (93,)\n"
     ]
    }
   ],
   "source": [
    "# Get training and testing data\n",
    "train_set, test_set = train_test_split(df, test_size = 0.2, random_state=42)\n",
    "\n",
    "# Get x data\n",
    "x_train = train_set[features].values\n",
    "x_test = test_set[features].values\n",
    "\n",
    "# Convert cluster column to tensor\n",
    "y_train = train_set['cluster'].values\n",
    "y_actual = test_set['cluster'].values\n",
    "\n",
    "print(\"x_train:\", x_train.shape)\n",
    "print(\"x_test:\", x_test.shape)\n",
    "print(\"y_train:\", y_train.shape)\n",
    "print(\"y_actual:\", y_actual.shape)"
   ]
  },
  {
   "cell_type": "code",
   "execution_count": 349,
   "metadata": {},
   "outputs": [
    {
     "name": "stdout",
     "output_type": "stream",
     "text": [
      "Best Test Accuracy: 0.9354838709677419\n",
      "Best Test Depth: 13\n"
     ]
    },
    {
     "data": {
      "text/plain": [
       "array([  0.,   0.,   0.,   0.,   0.,   0.,   0.,  -1.,   0.,   0.,   0.,\n",
       "         0.,   0.,   0.,   2.,   0.,   0.,   8.,   0.,  -1.,   0.,   0.,\n",
       "         0.,   0.,   0.,   0.,   1.,   0.,   0.,   0.,   0.,   0.,   0.,\n",
       "         0.,   0.,   0.,   0.,   0.,   0.,   0.,   0.,   0.,   0.,   0.,\n",
       "         0.,  -3.,   0.,   0.,   0.,   0.,   0.,   0.,  -1.,   0.,   0.,\n",
       "         0.,   0.,   0.,   0.,   0.,   0.,   0.,   0.,   0.,   0.,  -9.,\n",
       "         0.,   0.,   0.,   0.,   0.,   0.,   0.,   1.,   0.,   0.,   0.,\n",
       "         0.,   0.,   0.,   0., -10.,   0.,   0.,   0.,   0.,   0.,   0.,\n",
       "         0.,   0.,   0.,   0.,   0.])"
      ]
     },
     "metadata": {},
     "output_type": "display_data"
    },
    {
     "name": "stdout",
     "output_type": "stream",
     "text": [
      "Total Error: 37.0\n"
     ]
    }
   ],
   "source": [
    "# First calculate the accuracies for each depth\n",
    "depths = list(range(1, 26, 2))\n",
    "best_depth = 0\n",
    "best_accuracy = 0\n",
    "\n",
    "for i in depths:\n",
    "    # Train and evaluate our RandomForest classifier with given max_depth \n",
    "    forest = RandomForest(15, max_depth=i)\n",
    "    forest.fit(train_set)\n",
    "    train_score = accuracy_score(forest.predict(train_set[features]), train_set['cluster'])\n",
    "    observed_prediction = forest.predict(test_set[features])\n",
    "    test_score = accuracy_score(observed_prediction, test_set['cluster'])\n",
    "    \n",
    "    if test_score > best_accuracy:\n",
    "        best_accuracy = test_score\n",
    "        best_depth = i\n",
    "\n",
    "print(\"Best Test Accuracy: \", best_accuracy, \"\\nBest Test Depth: \", best_depth, sep=\"\")\n",
    "display(y_actual - observed_prediction)\n",
    "print(\"Total Error: \", sum(abs(y_actual - observed_prediction)), sep=\"\")"
   ]
  },
  {
   "attachments": {},
   "cell_type": "markdown",
   "metadata": {},
   "source": [
    "## GP Experiments"
   ]
  },
  {
   "attachments": {},
   "cell_type": "markdown",
   "metadata": {},
   "source": [
    "### Simple ExactGP + RBF "
   ]
  },
  {
   "cell_type": "code",
   "execution_count": 119,
   "metadata": {},
   "outputs": [],
   "source": [
    "# Use variables to specify the columns to encode\n",
    "item1 = 'last_one'\n",
    "item2 = 'leaving_hour'\n",
    "\n",
    "# Encode the data such that each combination of origin and destination is a unique number\n",
    "# Create a list of unique last_two combinations\n",
    "unique_combinations = df[[item1, item2]].drop_duplicates().reset_index(drop=True)\n",
    "\n",
    "# Create a dictionary of unique origin-destination combinations\n",
    "unique_combinations_dict = dict(zip(range(0, len(unique_combinations)), unique_combinations.values.tolist()))\n",
    "\n",
    "# Encode the origins and destinations\n",
    "df['combinations'] = df.apply(lambda x: encode_combinations(x, item1, item2, unique_combinations_dict), axis=1)\n",
    "\n",
    "# Get training and testing data\n",
    "train_set, test_set = train_test_split(df, test_size = 0.2, random_state=42)\n",
    "\n",
    "# Get x data\n",
    "x_train = torch.tensor(train_set['combinations'].values, dtype=torch.float32)\n",
    "x_test = torch.tensor(test_set['combinations'].values, dtype=torch.float32)\n",
    "\n",
    "# Convert cluster column to tensor\n",
    "y_train = torch.tensor(train_set['cluster'].values, dtype=torch.float32)\n",
    "y_actual = torch.tensor(test_set['cluster'].values, dtype=torch.float32)"
   ]
  },
  {
   "cell_type": "code",
   "execution_count": 120,
   "metadata": {},
   "outputs": [],
   "source": [
    "# We will use the simplest form of GP model, exact inference\n",
    "class ExactGPModel(gpytorch.models.ExactGP):\n",
    "    def __init__(self, train_x, train_y, likelihood):\n",
    "        super(ExactGPModel, self).__init__(train_x, train_y, likelihood)\n",
    "        self.mean_module = gpytorch.means.ConstantMean()\n",
    "        self.covar_module = gpytorch.kernels.ScaleKernel(gpytorch.kernels.RBFKernel())\n",
    "\n",
    "    def forward(self, x):\n",
    "        mean_x = self.mean_module(x)\n",
    "        covar_x = self.covar_module(x)\n",
    "        return gpytorch.distributions.MultivariateNormal(mean_x, covar_x)\n",
    "\n",
    "# initialize likelihood and model\n",
    "likelihood = gpytorch.likelihoods.GaussianLikelihood()\n",
    "model = ExactGPModel(x_train, y_train, likelihood)"
   ]
  },
  {
   "cell_type": "code",
   "execution_count": 121,
   "metadata": {},
   "outputs": [
    {
     "name": "stdout",
     "output_type": "stream",
     "text": [
      "Iter 1/100 - Loss: 4.317\n",
      "Iter 2/100 - Loss: 4.082\n",
      "Iter 3/100 - Loss: 3.876\n",
      "Iter 4/100 - Loss: 3.693\n",
      "Iter 5/100 - Loss: 3.531\n",
      "Iter 6/100 - Loss: 3.388\n",
      "Iter 7/100 - Loss: 3.262\n",
      "Iter 8/100 - Loss: 3.152\n",
      "Iter 9/100 - Loss: 3.054\n",
      "Iter 10/100 - Loss: 2.968\n",
      "Iter 11/100 - Loss: 2.893\n",
      "Iter 12/100 - Loss: 2.826\n",
      "Iter 13/100 - Loss: 2.767\n",
      "Iter 14/100 - Loss: 2.715\n",
      "Iter 15/100 - Loss: 2.669\n",
      "Iter 16/100 - Loss: 2.628\n",
      "Iter 17/100 - Loss: 2.592\n",
      "Iter 18/100 - Loss: 2.560\n",
      "Iter 19/100 - Loss: 2.532\n",
      "Iter 20/100 - Loss: 2.507\n",
      "Iter 21/100 - Loss: 2.484\n",
      "Iter 22/100 - Loss: 2.464\n",
      "Iter 23/100 - Loss: 2.446\n",
      "Iter 24/100 - Loss: 2.430\n",
      "Iter 25/100 - Loss: 2.415\n",
      "Iter 26/100 - Loss: 2.402\n",
      "Iter 27/100 - Loss: 2.390\n",
      "Iter 28/100 - Loss: 2.379\n",
      "Iter 29/100 - Loss: 2.370\n",
      "Iter 30/100 - Loss: 2.361\n",
      "Iter 31/100 - Loss: 2.353\n",
      "Iter 32/100 - Loss: 2.346\n",
      "Iter 33/100 - Loss: 2.339\n",
      "Iter 34/100 - Loss: 2.333\n",
      "Iter 35/100 - Loss: 2.328\n",
      "Iter 36/100 - Loss: 2.323\n",
      "Iter 37/100 - Loss: 2.318\n",
      "Iter 38/100 - Loss: 2.314\n",
      "Iter 39/100 - Loss: 2.310\n",
      "Iter 40/100 - Loss: 2.306\n",
      "Iter 41/100 - Loss: 2.303\n",
      "Iter 42/100 - Loss: 2.300\n",
      "Iter 43/100 - Loss: 2.297\n",
      "Iter 44/100 - Loss: 2.294\n",
      "Iter 45/100 - Loss: 2.291\n",
      "Iter 46/100 - Loss: 2.289\n",
      "Iter 47/100 - Loss: 2.287\n",
      "Iter 48/100 - Loss: 2.285\n",
      "Iter 49/100 - Loss: 2.283\n",
      "Iter 50/100 - Loss: 2.281\n",
      "Iter 51/100 - Loss: 2.279\n",
      "Iter 52/100 - Loss: 2.277\n",
      "Iter 53/100 - Loss: 2.276\n",
      "Iter 54/100 - Loss: 2.274\n",
      "Iter 55/100 - Loss: 2.273\n",
      "Iter 56/100 - Loss: 2.271\n",
      "Iter 57/100 - Loss: 2.270\n",
      "Iter 58/100 - Loss: 2.268\n",
      "Iter 59/100 - Loss: 2.267\n",
      "Iter 60/100 - Loss: 2.266\n",
      "Iter 61/100 - Loss: 2.265\n",
      "Iter 62/100 - Loss: 2.264\n",
      "Iter 63/100 - Loss: 2.263\n",
      "Iter 64/100 - Loss: 2.262\n",
      "Iter 65/100 - Loss: 2.261\n",
      "Iter 66/100 - Loss: 2.260\n",
      "Iter 67/100 - Loss: 2.259\n",
      "Iter 68/100 - Loss: 2.258\n",
      "Iter 69/100 - Loss: 2.257\n",
      "Iter 70/100 - Loss: 2.256\n",
      "Iter 71/100 - Loss: 2.255\n",
      "Iter 72/100 - Loss: 2.254\n",
      "Iter 73/100 - Loss: 2.254\n",
      "Iter 74/100 - Loss: 2.253\n",
      "Iter 75/100 - Loss: 2.252\n",
      "Iter 76/100 - Loss: 2.251\n",
      "Iter 77/100 - Loss: 2.251\n",
      "Iter 78/100 - Loss: 2.250\n",
      "Iter 79/100 - Loss: 2.249\n",
      "Iter 80/100 - Loss: 2.248\n",
      "Iter 81/100 - Loss: 2.248\n",
      "Iter 82/100 - Loss: 2.247\n",
      "Iter 83/100 - Loss: 2.247\n",
      "Iter 84/100 - Loss: 2.246\n",
      "Iter 85/100 - Loss: 2.245\n",
      "Iter 86/100 - Loss: 2.245\n",
      "Iter 87/100 - Loss: 2.244\n",
      "Iter 88/100 - Loss: 2.244\n",
      "Iter 89/100 - Loss: 2.243\n",
      "Iter 90/100 - Loss: 2.242\n",
      "Iter 91/100 - Loss: 2.242\n",
      "Iter 92/100 - Loss: 2.241\n",
      "Iter 93/100 - Loss: 2.241\n",
      "Iter 94/100 - Loss: 2.240\n",
      "Iter 95/100 - Loss: 2.240\n",
      "Iter 96/100 - Loss: 2.239\n",
      "Iter 97/100 - Loss: 2.239\n",
      "Iter 98/100 - Loss: 2.238\n",
      "Iter 99/100 - Loss: 2.238\n",
      "Iter 100/100 - Loss: 2.238\n"
     ]
    }
   ],
   "source": [
    "# this is for running the notebook in our testing framework\n",
    "import os\n",
    "smoke_test = ('CI' in os.environ)\n",
    "training_iter = 2 if smoke_test else 100\n",
    "\n",
    "# Find optimal model hyperparameters\n",
    "model.train()\n",
    "likelihood.train()\n",
    "\n",
    "# Use the adam optimizer\n",
    "optimizer = torch.optim.Adam(model.parameters(), lr=0.1)\n",
    "\n",
    "# \"Loss\" for GPs - the marginal log likelihood\n",
    "mll = gpytorch.mlls.ExactMarginalLogLikelihood(likelihood, model)\n",
    "\n",
    "for i in range(training_iter):\n",
    "    optimizer.zero_grad()\n",
    "    output = model(x_train)\n",
    "    loss = -mll(output, y_train)\n",
    "    loss.backward()\n",
    "    print('Iter %d/%d - Loss: %.3f' % (i + 1, training_iter, loss.item()))\n",
    "    optimizer.step()"
   ]
  },
  {
   "cell_type": "code",
   "execution_count": 122,
   "metadata": {},
   "outputs": [],
   "source": [
    "# Get into evaluation (predictive posterior) mode\n",
    "model.eval()\n",
    "likelihood.eval()\n",
    "\n",
    "# The gpytorch.settings.fast_pred_var flag activates LOVE (for fast variances)\n",
    "# See https://arxiv.org/abs/1803.06058\n",
    "with torch.no_grad(), gpytorch.settings.fast_pred_var():\n",
    "    # Make predictions\n",
    "    observed_prediction = likelihood(model(x_test))"
   ]
  },
  {
   "cell_type": "code",
   "execution_count": 123,
   "metadata": {},
   "outputs": [
    {
     "name": "stderr",
     "output_type": "stream",
     "text": [
      "/var/folders/9q/4yjzjfts7dl9f0m7h5315w200000gp/T/ipykernel_40517/1286424123.py:1: UserWarning: To copy construct from a tensor, it is recommended to use sourceTensor.clone().detach() or sourceTensor.clone().detach().requires_grad_(True), rather than torch.tensor(sourceTensor).\n",
      "  torch.tensor(y_actual - observed_prediction.mean, dtype=torch.int)\n"
     ]
    },
    {
     "data": {
      "text/plain": [
       "tensor([ 0,  0,  0,  0, -2,  0,  0, -3,  0,  0,  0,  0,  0,  0,  1,  0,  0,  7,\n",
       "         0, -3,  0,  0,  0,  0,  0,  0,  0,  0,  0,  0,  0,  0,  0,  0,  0,  0,\n",
       "        -2,  0,  0,  0,  0,  0,  0,  0,  0, -2,  0, -2,  0,  0,  0,  0, -1,  0,\n",
       "         0,  0,  0,  0,  0, -2,  0, -2, -2,  0,  0, -2, -2,  0,  0,  0,  0,  0,\n",
       "         0,  0,  0,  0,  0,  0,  0,  0,  0, -3,  0,  0,  0,  0,  0,  0,  0,  0,\n",
       "         0,  0,  0], dtype=torch.int32)"
      ]
     },
     "execution_count": 123,
     "metadata": {},
     "output_type": "execute_result"
    }
   ],
   "source": [
    "torch.tensor(y_actual - observed_prediction.mean, dtype=torch.int)"
   ]
  },
  {
   "cell_type": "code",
   "execution_count": 124,
   "metadata": {},
   "outputs": [
    {
     "name": "stdout",
     "output_type": "stream",
     "text": [
      "We predict the next location (current cluster) with an accuracy of: 83.87%\n"
     ]
    },
    {
     "name": "stderr",
     "output_type": "stream",
     "text": [
      "/var/folders/9q/4yjzjfts7dl9f0m7h5315w200000gp/T/ipykernel_40517/3212484906.py:2: UserWarning: To copy construct from a tensor, it is recommended to use sourceTensor.clone().detach() or sourceTensor.clone().detach().requires_grad_(True), rather than torch.tensor(sourceTensor).\n",
      "  '%.2f'%((len(y_actual) - torch.count_nonzero(torch.tensor(y_actual - observed_prediction.mean, dtype=torch.int))) / len(y_actual) * 100), \"%\", sep=\"\")\n"
     ]
    }
   ],
   "source": [
    "print(\"We predict the next location (current cluster) with an accuracy of: \", \n",
    "      '%.2f'%((len(y_actual) - torch.count_nonzero(torch.tensor(y_actual - observed_prediction.mean, dtype=torch.int))) / len(y_actual) * 100), \"%\", sep=\"\")"
   ]
  },
  {
   "attachments": {},
   "cell_type": "markdown",
   "metadata": {},
   "source": [
    "### Dirichlet Classification Experiments"
   ]
  },
  {
   "attachments": {},
   "cell_type": "markdown",
   "metadata": {},
   "source": [
    "#### Last Three Predict + Leaving Hour Predict Current Location"
   ]
  },
  {
   "cell_type": "code",
   "execution_count": 172,
   "metadata": {},
   "outputs": [
    {
     "name": "stdout",
     "output_type": "stream",
     "text": [
      "training shape: torch.Size([369, 67])\n",
      "testing shape: torch.Size([93, 67])\n"
     ]
    }
   ],
   "source": [
    "dummies1 = pd.get_dummies(df['third_last_one']).values\n",
    "dummies2 = pd.get_dummies(df['second_last_one']).values\n",
    "dummies3 = pd.get_dummies(df['last_one']).values\n",
    "hour_of_day = 'leaving_hour'\n",
    "\n",
    "# connect old data fram with new one horizontally\n",
    "new_df = pd.concat([df, pd.DataFrame(dummies1), pd.DataFrame(dummies2), pd.DataFrame(dummies3), pd.DataFrame(df['leaving_hour'])], axis=1)\n",
    "train_set, test_set = train_test_split(new_df, test_size = 0.2, random_state=42)\n",
    "\n",
    "# The number of unique locations\n",
    "locations = dummies1.shape[1] + dummies2.shape[1] + dummies3.shape[1]\n",
    "\n",
    "# x_train is last columns of train_set\n",
    "x_train = torch.tensor(train_set.iloc[:, -(locations + 1):].values, dtype=torch.int64)\n",
    "print(\"training shape:\", x_train.shape)\n",
    "\n",
    "# x_test is last columns of test_set\n",
    "x_test = torch.tensor(test_set.iloc[:, -(locations + 1):].values, dtype=torch.int64)\n",
    "print(\"testing shape:\", x_test.shape)\n",
    "\n",
    "# Convert cluster column to tensor\n",
    "y_train = torch.tensor(train_set['cluster'].values, dtype=torch.int64)\n",
    "y_actual = torch.tensor(test_set['cluster'].values, dtype=torch.int64)"
   ]
  },
  {
   "cell_type": "code",
   "execution_count": 173,
   "metadata": {},
   "outputs": [],
   "source": [
    "class DirichletGPModel(ExactGP):\n",
    "    def __init__(self, train_x, train_y, likelihood, num_classes):\n",
    "        super(DirichletGPModel, self).__init__(train_x, train_y, likelihood)\n",
    "        self.mean_module = ConstantMean(batch_shape=torch.Size((num_classes,)))\n",
    "        self.covar_module = ScaleKernel(\n",
    "            RBFKernel(batch_shape=torch.Size((num_classes,))),\n",
    "            batch_shape=torch.Size((num_classes,))\n",
    "        ) * ScaleKernel(\n",
    "            RBFKernel(active_dims=[66])\n",
    "            ) * ScaleKernel(\n",
    "            RBFKernel(active_dims = np.arange(0, 66, 1), ard_num_dims=66 )\n",
    "            )\n",
    "\n",
    "    def forward(self, x):\n",
    "        mean_x = self.mean_module(x)\n",
    "        covar_x = self.covar_module(x)\n",
    "        return gpytorch.distributions.MultivariateNormal(mean_x, covar_x)\n",
    "\n",
    "# initialize likelihood and model\n",
    "# we let the DirichletClassificationLikelihood compute the targets for us\n",
    "likelihood = DirichletClassificationLikelihood(y_train, learn_additional_noise=True)\n",
    "model = DirichletGPModel(x_train, likelihood.transformed_targets, likelihood, num_classes=likelihood.num_classes)"
   ]
  },
  {
   "cell_type": "code",
   "execution_count": 174,
   "metadata": {},
   "outputs": [
    {
     "name": "stdout",
     "output_type": "stream",
     "text": [
      "Iter 1/50 - Loss: 88.043\n",
      "Iter 6/50 - Loss: 64.379\n",
      "Iter 11/50 - Loss: 49.961\n",
      "Iter 16/50 - Loss: 43.894\n",
      "Iter 21/50 - Loss: 41.922\n",
      "Iter 26/50 - Loss: 41.060\n",
      "Iter 31/50 - Loss: 40.500\n",
      "Iter 36/50 - Loss: 40.069\n",
      "Iter 41/50 - Loss: 39.728\n",
      "Iter 46/50 - Loss: 39.459\n"
     ]
    }
   ],
   "source": [
    "import os\n",
    "smoke_test = ('CI' in os.environ)\n",
    "training_iter = 2 if smoke_test else 50\n",
    "\n",
    "# Find optimal model hyperparameters\n",
    "model.train()\n",
    "likelihood.train()\n",
    "\n",
    "# Use the adam optimizer\n",
    "optimizer = torch.optim.Adam(model.parameters(), lr=0.1)  # Includes GaussianLikelihood parameters\n",
    "\n",
    "# \"Loss\" for GPs - the marginal log likelihood\n",
    "mll = gpytorch.mlls.ExactMarginalLogLikelihood(likelihood, model)\n",
    "\n",
    "for i in range(training_iter):\n",
    "    # Zero gradients from previous iteration\n",
    "    optimizer.zero_grad()\n",
    "    # Output from model\n",
    "    output = model(x_train)\n",
    "    # Calc loss and backprop gradients\n",
    "    loss = -mll(output, likelihood.transformed_targets).sum()\n",
    "    loss.backward()\n",
    "    if i % 5 == 0:\n",
    "        print('Iter %d/%d - Loss: %.3f' % (i + 1, training_iter, loss.item()))\n",
    "    optimizer.step()"
   ]
  },
  {
   "cell_type": "code",
   "execution_count": 175,
   "metadata": {},
   "outputs": [
    {
     "data": {
      "text/plain": [
       "tensor([[3.5971, 3.1682, 2.9587, 2.9064, 3.1710, 3.0427, 2.8683, 3.2768, 2.9048,\n",
       "         2.7985, 0.6931, 3.0813, 0.6931, 3.3693, 0.6931, 3.0289, 3.2960, 2.8683,\n",
       "         3.3558, 3.1177, 3.2728, 3.4598, 3.2809, 3.2546, 3.0828, 3.1107, 3.2962,\n",
       "         3.2736, 3.1165, 3.0321, 3.0058, 3.2286, 3.0783, 3.3856, 3.3649, 3.0627,\n",
       "         3.1487, 3.2960, 3.4162, 3.0783, 3.5164, 3.2001, 3.6720, 0.6931, 0.6931,\n",
       "         2.9650, 3.1007, 2.9417, 3.1120, 3.2929, 3.1360, 4.0203, 3.2561, 3.3065,\n",
       "         3.2728, 3.3295, 3.3693, 3.3944, 0.6931, 3.4162, 2.7649, 3.2561, 3.3255,\n",
       "         3.0705, 0.6931, 3.1165]], grad_fn=<SoftplusBackward0>)"
      ]
     },
     "execution_count": 175,
     "metadata": {},
     "output_type": "execute_result"
    }
   ],
   "source": [
    "model.covar_module.kernels[2].base_kernel.lengthscale"
   ]
  },
  {
   "cell_type": "code",
   "execution_count": 176,
   "metadata": {},
   "outputs": [
    {
     "data": {
      "text/plain": [
       "tensor([2.1308, 2.1806, 2.1186, 2.0058, 2.0546, 2.0484, 2.0416, 2.0266, 2.0595,\n",
       "        2.0332, 2.0461, 2.0458, 2.0369, 2.0369, 2.0520, 2.0421, 2.0321, 2.0350,\n",
       "        2.0411, 2.0426, 2.0443], grad_fn=<SoftplusBackward0>)"
      ]
     },
     "execution_count": 176,
     "metadata": {},
     "output_type": "execute_result"
    }
   ],
   "source": [
    "model.covar_module.kernels[0].outputscale"
   ]
  },
  {
   "cell_type": "code",
   "execution_count": 177,
   "metadata": {},
   "outputs": [],
   "source": [
    "# evaluate our model\n",
    "model.eval()\n",
    "likelihood.eval()\n",
    "\n",
    "with gpytorch.settings.fast_pred_var(), torch.no_grad():\n",
    "    test_dist = model(x_test)\n",
    "    pred_means = test_dist.loc"
   ]
  },
  {
   "cell_type": "code",
   "execution_count": 178,
   "metadata": {},
   "outputs": [
    {
     "name": "stderr",
     "output_type": "stream",
     "text": [
      "/var/folders/9q/4yjzjfts7dl9f0m7h5315w200000gp/T/ipykernel_47478/1401055272.py:2: UserWarning: To copy construct from a tensor, it is recommended to use sourceTensor.clone().detach() or sourceTensor.clone().detach().requires_grad_(True), rather than torch.tensor(sourceTensor).\n",
      "  torch.tensor(y_actual - observed_prediction, dtype=torch.int)\n"
     ]
    },
    {
     "data": {
      "text/plain": [
       "tensor([ 0,  0,  0,  0,  2,  0,  0,  0,  0,  0,  0,  0,  0,  0,  2,  0,  0,  7,\n",
       "         0,  0,  0,  0,  0,  0,  0,  0,  1,  0,  0,  0,  0,  0,  0,  0,  0,  0,\n",
       "         0,  0,  0,  0,  0,  0,  0,  0,  0,  0,  0,  0,  0,  0,  0,  0, -6,  0,\n",
       "         0,  0,  0,  0,  0,  0,  0,  0,  0,  0,  0,  1,  0,  0,  0,  0,  0,  0,\n",
       "         0,  1,  0,  0,  0,  0,  0,  0,  0, -1,  0,  0,  0,  0,  0,  0,  0,  0,\n",
       "         0,  0,  0], dtype=torch.int32)"
      ]
     },
     "execution_count": 178,
     "metadata": {},
     "output_type": "execute_result"
    }
   ],
   "source": [
    "observed_prediction = pred_means.max(0)[1]\n",
    "torch.tensor(y_actual - observed_prediction, dtype=torch.int)"
   ]
  },
  {
   "cell_type": "code",
   "execution_count": 179,
   "metadata": {},
   "outputs": [
    {
     "name": "stdout",
     "output_type": "stream",
     "text": [
      "We predict the next location (current cluster) with an accuracy of: 91.40%\n"
     ]
    },
    {
     "name": "stderr",
     "output_type": "stream",
     "text": [
      "/var/folders/9q/4yjzjfts7dl9f0m7h5315w200000gp/T/ipykernel_47478/4178206740.py:2: UserWarning: To copy construct from a tensor, it is recommended to use sourceTensor.clone().detach() or sourceTensor.clone().detach().requires_grad_(True), rather than torch.tensor(sourceTensor).\n",
      "  '%.2f'%((len(y_actual) - torch.count_nonzero(torch.tensor(y_actual - observed_prediction, dtype=torch.int))) / len(y_actual) * 100), \"%\", sep=\"\")\n"
     ]
    }
   ],
   "source": [
    "print(\"We predict the next location (current cluster) with an accuracy of: \", \n",
    "      '%.2f'%((len(y_actual) - torch.count_nonzero(torch.tensor(y_actual - observed_prediction, dtype=torch.int))) / len(y_actual) * 100), \"%\", sep=\"\")"
   ]
  },
  {
   "attachments": {},
   "cell_type": "markdown",
   "metadata": {},
   "source": [
    "### Spectral Mixture Experiments"
   ]
  },
  {
   "attachments": {},
   "cell_type": "markdown",
   "metadata": {},
   "source": [
    "#### Predict Next Location Using Last Location and Leaving Hour Encoding"
   ]
  },
  {
   "cell_type": "code",
   "execution_count": 10,
   "metadata": {},
   "outputs": [
    {
     "ename": "NameError",
     "evalue": "name 'encode_combinations' is not defined",
     "output_type": "error",
     "traceback": [
      "\u001b[0;31m---------------------------------------------------------------------------\u001b[0m",
      "\u001b[0;31mNameError\u001b[0m                                 Traceback (most recent call last)",
      "Cell \u001b[0;32mIn[10], line 13\u001b[0m\n\u001b[1;32m     10\u001b[0m unique_combinations_dict \u001b[39m=\u001b[39m \u001b[39mdict\u001b[39m(\u001b[39mzip\u001b[39m(\u001b[39mrange\u001b[39m(\u001b[39m0\u001b[39m, \u001b[39mlen\u001b[39m(unique_combinations)), unique_combinations\u001b[39m.\u001b[39mvalues\u001b[39m.\u001b[39mtolist()))\n\u001b[1;32m     12\u001b[0m \u001b[39m# Encode the origins and destinations\u001b[39;00m\n\u001b[0;32m---> 13\u001b[0m df[\u001b[39m'\u001b[39m\u001b[39mcombinations\u001b[39m\u001b[39m'\u001b[39m] \u001b[39m=\u001b[39m df\u001b[39m.\u001b[39;49mapply(\u001b[39mlambda\u001b[39;49;00m x: encode_combinations(x, item1, item2, unique_combinations_dict), axis\u001b[39m=\u001b[39;49m\u001b[39m1\u001b[39;49m)\n\u001b[1;32m     15\u001b[0m \u001b[39m# Get training and testing data\u001b[39;00m\n\u001b[1;32m     16\u001b[0m train_set, test_set \u001b[39m=\u001b[39m train_test_split(df, test_size \u001b[39m=\u001b[39m \u001b[39m0.2\u001b[39m, random_state\u001b[39m=\u001b[39m\u001b[39m42\u001b[39m)\n",
      "File \u001b[0;32m~/anaconda3/lib/python3.10/site-packages/pandas/core/frame.py:9568\u001b[0m, in \u001b[0;36mDataFrame.apply\u001b[0;34m(self, func, axis, raw, result_type, args, **kwargs)\u001b[0m\n\u001b[1;32m   9557\u001b[0m \u001b[39mfrom\u001b[39;00m \u001b[39mpandas\u001b[39;00m\u001b[39m.\u001b[39;00m\u001b[39mcore\u001b[39;00m\u001b[39m.\u001b[39;00m\u001b[39mapply\u001b[39;00m \u001b[39mimport\u001b[39;00m frame_apply\n\u001b[1;32m   9559\u001b[0m op \u001b[39m=\u001b[39m frame_apply(\n\u001b[1;32m   9560\u001b[0m     \u001b[39mself\u001b[39m,\n\u001b[1;32m   9561\u001b[0m     func\u001b[39m=\u001b[39mfunc,\n\u001b[0;32m   (...)\u001b[0m\n\u001b[1;32m   9566\u001b[0m     kwargs\u001b[39m=\u001b[39mkwargs,\n\u001b[1;32m   9567\u001b[0m )\n\u001b[0;32m-> 9568\u001b[0m \u001b[39mreturn\u001b[39;00m op\u001b[39m.\u001b[39;49mapply()\u001b[39m.\u001b[39m__finalize__(\u001b[39mself\u001b[39m, method\u001b[39m=\u001b[39m\u001b[39m\"\u001b[39m\u001b[39mapply\u001b[39m\u001b[39m\"\u001b[39m)\n",
      "File \u001b[0;32m~/anaconda3/lib/python3.10/site-packages/pandas/core/apply.py:764\u001b[0m, in \u001b[0;36mFrameApply.apply\u001b[0;34m(self)\u001b[0m\n\u001b[1;32m    761\u001b[0m \u001b[39melif\u001b[39;00m \u001b[39mself\u001b[39m\u001b[39m.\u001b[39mraw:\n\u001b[1;32m    762\u001b[0m     \u001b[39mreturn\u001b[39;00m \u001b[39mself\u001b[39m\u001b[39m.\u001b[39mapply_raw()\n\u001b[0;32m--> 764\u001b[0m \u001b[39mreturn\u001b[39;00m \u001b[39mself\u001b[39;49m\u001b[39m.\u001b[39;49mapply_standard()\n",
      "File \u001b[0;32m~/anaconda3/lib/python3.10/site-packages/pandas/core/apply.py:891\u001b[0m, in \u001b[0;36mFrameApply.apply_standard\u001b[0;34m(self)\u001b[0m\n\u001b[1;32m    890\u001b[0m \u001b[39mdef\u001b[39;00m \u001b[39mapply_standard\u001b[39m(\u001b[39mself\u001b[39m):\n\u001b[0;32m--> 891\u001b[0m     results, res_index \u001b[39m=\u001b[39m \u001b[39mself\u001b[39;49m\u001b[39m.\u001b[39;49mapply_series_generator()\n\u001b[1;32m    893\u001b[0m     \u001b[39m# wrap results\u001b[39;00m\n\u001b[1;32m    894\u001b[0m     \u001b[39mreturn\u001b[39;00m \u001b[39mself\u001b[39m\u001b[39m.\u001b[39mwrap_results(results, res_index)\n",
      "File \u001b[0;32m~/anaconda3/lib/python3.10/site-packages/pandas/core/apply.py:907\u001b[0m, in \u001b[0;36mFrameApply.apply_series_generator\u001b[0;34m(self)\u001b[0m\n\u001b[1;32m    904\u001b[0m \u001b[39mwith\u001b[39;00m option_context(\u001b[39m\"\u001b[39m\u001b[39mmode.chained_assignment\u001b[39m\u001b[39m\"\u001b[39m, \u001b[39mNone\u001b[39;00m):\n\u001b[1;32m    905\u001b[0m     \u001b[39mfor\u001b[39;00m i, v \u001b[39min\u001b[39;00m \u001b[39menumerate\u001b[39m(series_gen):\n\u001b[1;32m    906\u001b[0m         \u001b[39m# ignore SettingWithCopy here in case the user mutates\u001b[39;00m\n\u001b[0;32m--> 907\u001b[0m         results[i] \u001b[39m=\u001b[39m \u001b[39mself\u001b[39;49m\u001b[39m.\u001b[39;49mf(v)\n\u001b[1;32m    908\u001b[0m         \u001b[39mif\u001b[39;00m \u001b[39misinstance\u001b[39m(results[i], ABCSeries):\n\u001b[1;32m    909\u001b[0m             \u001b[39m# If we have a view on v, we need to make a copy because\u001b[39;00m\n\u001b[1;32m    910\u001b[0m             \u001b[39m#  series_generator will swap out the underlying data\u001b[39;00m\n\u001b[1;32m    911\u001b[0m             results[i] \u001b[39m=\u001b[39m results[i]\u001b[39m.\u001b[39mcopy(deep\u001b[39m=\u001b[39m\u001b[39mFalse\u001b[39;00m)\n",
      "Cell \u001b[0;32mIn[10], line 13\u001b[0m, in \u001b[0;36m<lambda>\u001b[0;34m(x)\u001b[0m\n\u001b[1;32m     10\u001b[0m unique_combinations_dict \u001b[39m=\u001b[39m \u001b[39mdict\u001b[39m(\u001b[39mzip\u001b[39m(\u001b[39mrange\u001b[39m(\u001b[39m0\u001b[39m, \u001b[39mlen\u001b[39m(unique_combinations)), unique_combinations\u001b[39m.\u001b[39mvalues\u001b[39m.\u001b[39mtolist()))\n\u001b[1;32m     12\u001b[0m \u001b[39m# Encode the origins and destinations\u001b[39;00m\n\u001b[0;32m---> 13\u001b[0m df[\u001b[39m'\u001b[39m\u001b[39mcombinations\u001b[39m\u001b[39m'\u001b[39m] \u001b[39m=\u001b[39m df\u001b[39m.\u001b[39mapply(\u001b[39mlambda\u001b[39;00m x: encode_combinations(x, item1, item2, unique_combinations_dict), axis\u001b[39m=\u001b[39m\u001b[39m1\u001b[39m)\n\u001b[1;32m     15\u001b[0m \u001b[39m# Get training and testing data\u001b[39;00m\n\u001b[1;32m     16\u001b[0m train_set, test_set \u001b[39m=\u001b[39m train_test_split(df, test_size \u001b[39m=\u001b[39m \u001b[39m0.2\u001b[39m, random_state\u001b[39m=\u001b[39m\u001b[39m42\u001b[39m)\n",
      "\u001b[0;31mNameError\u001b[0m: name 'encode_combinations' is not defined"
     ]
    }
   ],
   "source": [
    "# Use variables to specify the columns to encode\n",
    "item1 = 'last_one'\n",
    "item2 = 'leaving_hour'\n",
    "\n",
    "# Encode the data such that each combination of origin and destination is a unique number\n",
    "# Create a list of unique last_two combinations\n",
    "unique_combinations = df[[item1, item2]].drop_duplicates().reset_index(drop=True)\n",
    "\n",
    "# Create a dictionary of unique origin-destination combinations\n",
    "unique_combinations_dict = dict(zip(range(0, len(unique_combinations)), unique_combinations.values.tolist()))\n",
    "\n",
    "# Encode the origins and destinations\n",
    "df['combinations'] = df.apply(lambda x: encode_combinations(x, item1, item2, unique_combinations_dict), axis=1)\n",
    "\n",
    "# Get training and testing data\n",
    "train_set, test_set = train_test_split(df, test_size = 0.2, random_state=42)\n",
    "\n",
    "# Get x data\n",
    "x_train = torch.tensor(train_set['combinations'].values, dtype=torch.float32)\n",
    "x_test = torch.tensor(test_set['combinations'].values, dtype=torch.float32)\n",
    "\n",
    "# Convert cluster column to tensor\n",
    "y_train = torch.tensor(train_set['cluster'].values, dtype=torch.float32)\n",
    "y_actual = torch.tensor(test_set['cluster'].values, dtype=torch.float32)"
   ]
  },
  {
   "cell_type": "code",
   "execution_count": 135,
   "metadata": {},
   "outputs": [],
   "source": [
    "class SpectralMixtureGPModel(gpytorch.models.ExactGP):\n",
    "    def __init__(self, train_x, train_y, likelihood):\n",
    "        super(SpectralMixtureGPModel, self).__init__(train_x, train_y, likelihood)\n",
    "        self.mean_module = gpytorch.means.ConstantMean()\n",
    "        self.covar_module = gpytorch.kernels.SpectralMixtureKernel(num_mixtures=4)\n",
    "        self.covar_module.initialize_from_data(train_x, train_y)\n",
    "\n",
    "    def forward(self,x):\n",
    "        mean_x = self.mean_module(x)\n",
    "        covar_x = self.covar_module(x)\n",
    "        return gpytorch.distributions.MultivariateNormal(mean_x, covar_x)\n",
    "\n",
    "\n",
    "likelihood = gpytorch.likelihoods.GaussianLikelihood()\n",
    "model = SpectralMixtureGPModel(x_train, y_train, likelihood)"
   ]
  },
  {
   "cell_type": "code",
   "execution_count": 136,
   "metadata": {},
   "outputs": [
    {
     "name": "stdout",
     "output_type": "stream",
     "text": [
      "Iter 1/100 - Loss: 3.673\n",
      "Iter 2/100 - Loss: 3.413\n",
      "Iter 3/100 - Loss: 3.249\n",
      "Iter 4/100 - Loss: 3.099\n",
      "Iter 5/100 - Loss: 2.980\n",
      "Iter 6/100 - Loss: 2.880\n",
      "Iter 7/100 - Loss: 2.790\n",
      "Iter 8/100 - Loss: 2.705\n",
      "Iter 9/100 - Loss: 2.629\n",
      "Iter 10/100 - Loss: 2.568\n",
      "Iter 11/100 - Loss: 2.522\n",
      "Iter 12/100 - Loss: 2.483\n",
      "Iter 13/100 - Loss: 2.450\n",
      "Iter 14/100 - Loss: 2.419\n",
      "Iter 15/100 - Loss: 2.393\n",
      "Iter 16/100 - Loss: 2.369\n",
      "Iter 17/100 - Loss: 2.349\n",
      "Iter 18/100 - Loss: 2.331\n",
      "Iter 19/100 - Loss: 2.315\n",
      "Iter 20/100 - Loss: 2.301\n",
      "Iter 21/100 - Loss: 2.289\n",
      "Iter 22/100 - Loss: 2.277\n",
      "Iter 23/100 - Loss: 2.267\n",
      "Iter 24/100 - Loss: 2.258\n",
      "Iter 25/100 - Loss: 2.250\n",
      "Iter 26/100 - Loss: 2.242\n",
      "Iter 27/100 - Loss: 2.235\n",
      "Iter 28/100 - Loss: 2.229\n",
      "Iter 29/100 - Loss: 2.224\n",
      "Iter 30/100 - Loss: 2.219\n",
      "Iter 31/100 - Loss: 2.214\n",
      "Iter 32/100 - Loss: 2.210\n",
      "Iter 33/100 - Loss: 2.207\n",
      "Iter 34/100 - Loss: 2.204\n",
      "Iter 35/100 - Loss: 2.201\n",
      "Iter 36/100 - Loss: 2.198\n",
      "Iter 37/100 - Loss: 2.196\n",
      "Iter 38/100 - Loss: 2.194\n",
      "Iter 39/100 - Loss: 2.192\n",
      "Iter 40/100 - Loss: 2.190\n",
      "Iter 41/100 - Loss: 2.189\n",
      "Iter 42/100 - Loss: 2.187\n",
      "Iter 43/100 - Loss: 2.186\n",
      "Iter 44/100 - Loss: 2.185\n",
      "Iter 45/100 - Loss: 2.184\n",
      "Iter 46/100 - Loss: 2.183\n",
      "Iter 47/100 - Loss: 2.183\n",
      "Iter 48/100 - Loss: 2.182\n",
      "Iter 49/100 - Loss: 2.181\n",
      "Iter 50/100 - Loss: 2.180\n",
      "Iter 51/100 - Loss: 2.180\n",
      "Iter 52/100 - Loss: 2.179\n",
      "Iter 53/100 - Loss: 2.179\n",
      "Iter 54/100 - Loss: 2.178\n",
      "Iter 55/100 - Loss: 2.178\n",
      "Iter 56/100 - Loss: 2.178\n",
      "Iter 57/100 - Loss: 2.177\n",
      "Iter 58/100 - Loss: 2.177\n",
      "Iter 59/100 - Loss: 2.176\n",
      "Iter 60/100 - Loss: 2.176\n",
      "Iter 61/100 - Loss: 2.176\n",
      "Iter 62/100 - Loss: 2.176\n",
      "Iter 63/100 - Loss: 2.175\n",
      "Iter 64/100 - Loss: 2.175\n",
      "Iter 65/100 - Loss: 2.175\n",
      "Iter 66/100 - Loss: 2.175\n",
      "Iter 67/100 - Loss: 2.174\n",
      "Iter 68/100 - Loss: 2.174\n",
      "Iter 69/100 - Loss: 2.174\n",
      "Iter 70/100 - Loss: 2.174\n",
      "Iter 71/100 - Loss: 2.174\n",
      "Iter 72/100 - Loss: 2.174\n",
      "Iter 73/100 - Loss: 2.173\n",
      "Iter 74/100 - Loss: 2.173\n",
      "Iter 75/100 - Loss: 2.173\n",
      "Iter 76/100 - Loss: 2.173\n",
      "Iter 77/100 - Loss: 2.173\n",
      "Iter 78/100 - Loss: 2.173\n",
      "Iter 79/100 - Loss: 2.173\n",
      "Iter 80/100 - Loss: 2.173\n",
      "Iter 81/100 - Loss: 2.173\n",
      "Iter 82/100 - Loss: 2.173\n",
      "Iter 83/100 - Loss: 2.172\n",
      "Iter 84/100 - Loss: 2.172\n",
      "Iter 85/100 - Loss: 2.172\n",
      "Iter 86/100 - Loss: 2.172\n",
      "Iter 87/100 - Loss: 2.172\n",
      "Iter 88/100 - Loss: 2.172\n",
      "Iter 89/100 - Loss: 2.172\n",
      "Iter 90/100 - Loss: 2.172\n",
      "Iter 91/100 - Loss: 2.172\n",
      "Iter 92/100 - Loss: 2.172\n",
      "Iter 93/100 - Loss: 2.172\n",
      "Iter 94/100 - Loss: 2.172\n",
      "Iter 95/100 - Loss: 2.172\n",
      "Iter 96/100 - Loss: 2.172\n",
      "Iter 97/100 - Loss: 2.172\n",
      "Iter 98/100 - Loss: 2.172\n",
      "Iter 99/100 - Loss: 2.172\n",
      "Iter 100/100 - Loss: 2.172\n"
     ]
    }
   ],
   "source": [
    "# this is for running the notebook in our testing framework\n",
    "import os\n",
    "smoke_test = ('CI' in os.environ)\n",
    "training_iter = 2 if smoke_test else 100\n",
    "\n",
    "# Find optimal model hyperparameters\n",
    "model.train()\n",
    "likelihood.train()\n",
    "\n",
    "# Use the adam optimizer\n",
    "optimizer = torch.optim.Adam(model.parameters(), lr=0.1)\n",
    "\n",
    "# \"Loss\" for GPs - the marginal log likelihood\n",
    "mll = gpytorch.mlls.ExactMarginalLogLikelihood(likelihood, model)\n",
    "\n",
    "for i in range(training_iter):\n",
    "    optimizer.zero_grad()\n",
    "    output = model(x_train)\n",
    "    loss = -mll(output, y_train)\n",
    "    loss.backward()\n",
    "    print('Iter %d/%d - Loss: %.3f' % (i + 1, training_iter, loss.item()))\n",
    "    optimizer.step()"
   ]
  },
  {
   "cell_type": "code",
   "execution_count": 137,
   "metadata": {},
   "outputs": [],
   "source": [
    "# Get into evaluation (predictive posterior) mode\n",
    "model.eval()\n",
    "likelihood.eval()\n",
    "\n",
    "# The gpytorch.settings.fast_pred_var flag activates LOVE (for fast variances)\n",
    "# See https://arxiv.org/abs/1803.06058\n",
    "with torch.no_grad(), gpytorch.settings.fast_pred_var():\n",
    "    # Make predictions\n",
    "    observed_prediction = likelihood(model(x_test))"
   ]
  },
  {
   "cell_type": "code",
   "execution_count": 9,
   "metadata": {},
   "outputs": [
    {
     "ename": "NameError",
     "evalue": "name 'observed_prediction' is not defined",
     "output_type": "error",
     "traceback": [
      "\u001b[0;31m---------------------------------------------------------------------------\u001b[0m",
      "\u001b[0;31mNameError\u001b[0m                                 Traceback (most recent call last)",
      "Cell \u001b[0;32mIn[9], line 1\u001b[0m\n\u001b[0;32m----> 1\u001b[0m observed_prediction\u001b[39m.\u001b[39mmean\n",
      "\u001b[0;31mNameError\u001b[0m: name 'observed_prediction' is not defined"
     ]
    }
   ],
   "source": [
    "observed_prediction.mean"
   ]
  },
  {
   "cell_type": "code",
   "execution_count": 138,
   "metadata": {},
   "outputs": [
    {
     "name": "stderr",
     "output_type": "stream",
     "text": [
      "/var/folders/9q/4yjzjfts7dl9f0m7h5315w200000gp/T/ipykernel_40517/1286424123.py:1: UserWarning: To copy construct from a tensor, it is recommended to use sourceTensor.clone().detach() or sourceTensor.clone().detach().requires_grad_(True), rather than torch.tensor(sourceTensor).\n",
      "  torch.tensor(y_actual - observed_prediction.mean, dtype=torch.int)\n"
     ]
    },
    {
     "data": {
      "text/plain": [
       "tensor([ 0,  0,  0,  0, -2,  0,  0, -2,  0,  0,  0,  0,  0,  0,  1,  0,  0,  7,\n",
       "         0, -3,  0,  0,  0,  0,  0,  0,  0,  0,  0,  0,  0,  0,  0,  0,  0,  0,\n",
       "        -3,  0,  0,  0,  0,  0,  0,  0,  0, -2,  0, -2,  0,  0,  0,  0, -3,  0,\n",
       "         0,  0,  0,  0,  0, -2,  0, -2, -1,  0,  0, -3, -1,  0,  0,  0,  0,  0,\n",
       "         0,  0,  0,  0,  0,  0,  0,  0,  0, -3,  0,  0,  0,  0,  0,  0,  0,  0,\n",
       "         0,  0,  0], dtype=torch.int32)"
      ]
     },
     "execution_count": 138,
     "metadata": {},
     "output_type": "execute_result"
    }
   ],
   "source": [
    "torch.tensor(y_actual - observed_prediction.mean, dtype=torch.int)"
   ]
  },
  {
   "cell_type": "code",
   "execution_count": 139,
   "metadata": {},
   "outputs": [
    {
     "name": "stdout",
     "output_type": "stream",
     "text": [
      "We predict the next location (current cluster) with an accuracy of: 83.87%\n"
     ]
    },
    {
     "name": "stderr",
     "output_type": "stream",
     "text": [
      "/var/folders/9q/4yjzjfts7dl9f0m7h5315w200000gp/T/ipykernel_40517/3212484906.py:2: UserWarning: To copy construct from a tensor, it is recommended to use sourceTensor.clone().detach() or sourceTensor.clone().detach().requires_grad_(True), rather than torch.tensor(sourceTensor).\n",
      "  '%.2f'%((len(y_actual) - torch.count_nonzero(torch.tensor(y_actual - observed_prediction.mean, dtype=torch.int))) / len(y_actual) * 100), \"%\", sep=\"\")\n"
     ]
    }
   ],
   "source": [
    "print(\"We predict the next location (current cluster) with an accuracy of: \", \n",
    "      '%.2f'%((len(y_actual) - torch.count_nonzero(torch.tensor(y_actual - observed_prediction.mean, dtype=torch.int))) / len(y_actual) * 100), \"%\", sep=\"\")"
   ]
  },
  {
   "attachments": {},
   "cell_type": "markdown",
   "metadata": {},
   "source": [
    "### Combination Kernel Experiments"
   ]
  },
  {
   "attachments": {},
   "cell_type": "markdown",
   "metadata": {},
   "source": [
    "#### Dirichlet Product Kernel"
   ]
  },
  {
   "cell_type": "code",
   "execution_count": 351,
   "metadata": {},
   "outputs": [
    {
     "name": "stdout",
     "output_type": "stream",
     "text": [
      "training shape: torch.Size([369, 68])\n",
      "testing shape: torch.Size([93, 68])\n"
     ]
    }
   ],
   "source": [
    "dummies1 = pd.get_dummies(df['third_last_one']).values\n",
    "dummies2 = pd.get_dummies(df['second_last_one']).values\n",
    "dummies3 = pd.get_dummies(df['last_one']).values\n",
    "\n",
    "# connect old data fram with new one horizontally\n",
    "new_df = pd.concat([df, \n",
    "                    pd.DataFrame(dummies1), \n",
    "                    pd.DataFrame(dummies2), \n",
    "                    pd.DataFrame(dummies3), \n",
    "                    pd.DataFrame(df['leaving_hour']),\n",
    "                    pd.DataFrame(df['day_of_week'])], axis=1)\n",
    "train_set, test_set = train_test_split(new_df, test_size = 0.2, random_state=42)\n",
    "\n",
    "# The number of unique locations\n",
    "locations = dummies1.shape[1] + dummies2.shape[1] + dummies3.shape[1]\n",
    "\n",
    "# x_train is last columns of train_set\n",
    "x_train = torch.tensor(train_set.iloc[:, -(locations + 2):].values, dtype=torch.int64)\n",
    "print(\"training shape:\", x_train.shape)\n",
    "\n",
    "# x_test is last columns of test_set\n",
    "x_test = torch.tensor(test_set.iloc[:, -(locations + 2):].values, dtype=torch.int64)\n",
    "print(\"testing shape:\", x_test.shape)\n",
    "\n",
    "# Convert cluster column to tensor\n",
    "y_train = torch.tensor(train_set['cluster'].values, dtype=torch.int64)\n",
    "y_actual = torch.tensor(test_set['cluster'].values, dtype=torch.int64)"
   ]
  },
  {
   "cell_type": "code",
   "execution_count": 352,
   "metadata": {},
   "outputs": [],
   "source": [
    "class DirichletGPModel(ExactGP):\n",
    "    def __init__(self, train_x, train_y, likelihood, num_classes):\n",
    "        super(DirichletGPModel, self).__init__(train_x, train_y, likelihood)\n",
    "        self.mean_module = ConstantMean(batch_shape=torch.Size((num_classes,)))\n",
    "        self.covar_module = ScaleKernel(\n",
    "            RBFKernel(batch_shape=torch.Size((num_classes,))),\n",
    "            batch_shape=torch.Size((num_classes,))\n",
    "        ) * ScaleKernel(\n",
    "                RBFKernel(active_dims=[66, 67])\n",
    "            ) * ScaleKernel(\n",
    "                    RBFKernel(active_dims = np.arange(0, 66, 1), ard_num_dims=66 )\n",
    "                )\n",
    "\n",
    "    def forward(self, x):\n",
    "        mean_x = self.mean_module(x)\n",
    "        covar_x = self.covar_module(x)\n",
    "        return gpytorch.distributions.MultivariateNormal(mean_x, covar_x)\n",
    "\n",
    "# initialize likelihood and model\n",
    "# we let the DirichletClassificationLikelihood compute the targets for us\n",
    "likelihood = DirichletClassificationLikelihood(y_train, learn_additional_noise=True)\n",
    "model = DirichletGPModel(x_train, likelihood.transformed_targets, likelihood, num_classes=likelihood.num_classes)"
   ]
  },
  {
   "cell_type": "code",
   "execution_count": 353,
   "metadata": {},
   "outputs": [
    {
     "name": "stdout",
     "output_type": "stream",
     "text": [
      "Iter 1/50 - Loss: 106.611\n",
      "Iter 11/50 - Loss: 56.428\n",
      "Iter 21/50 - Loss: 44.520\n",
      "Iter 31/50 - Loss: 42.710\n",
      "Iter 41/50 - Loss: 41.659\n"
     ]
    }
   ],
   "source": [
    "# this is for running the notebook in our testing framework\n",
    "import os\n",
    "smoke_test = ('CI' in os.environ)\n",
    "training_iter = 2 if smoke_test else 50\n",
    "\n",
    "# Find optimal model hyperparameters\n",
    "model.train()\n",
    "likelihood.train()\n",
    "\n",
    "# Use the adam optimizer\n",
    "optimizer = torch.optim.Adam(model.parameters(), lr=0.1)\n",
    "\n",
    "# \"Loss\" for GPs - the marginal log likelihood\n",
    "mll = gpytorch.mlls.ExactMarginalLogLikelihood(likelihood, model)\n",
    "\n",
    "for i in range(training_iter):\n",
    "    optimizer.zero_grad()\n",
    "    output = model(x_train)\n",
    "    loss = -mll(output, likelihood.transformed_targets).sum()\n",
    "    loss.backward()\n",
    "    if i % 10 == 0:\n",
    "        print('Iter %d/%d - Loss: %.3f' % (i + 1, training_iter, loss.item()))\n",
    "    optimizer.step()"
   ]
  },
  {
   "cell_type": "code",
   "execution_count": 354,
   "metadata": {},
   "outputs": [],
   "source": [
    "# evaluate our model\n",
    "model.eval()\n",
    "likelihood.eval()\n",
    "\n",
    "with gpytorch.settings.fast_pred_var(), torch.no_grad():\n",
    "    test_dist = model(x_test)\n",
    "    pred_means = test_dist.loc"
   ]
  },
  {
   "cell_type": "code",
   "execution_count": 355,
   "metadata": {},
   "outputs": [
    {
     "name": "stderr",
     "output_type": "stream",
     "text": [
      "/var/folders/9q/4yjzjfts7dl9f0m7h5315w200000gp/T/ipykernel_47478/1401055272.py:2: UserWarning: To copy construct from a tensor, it is recommended to use sourceTensor.clone().detach() or sourceTensor.clone().detach().requires_grad_(True), rather than torch.tensor(sourceTensor).\n",
      "  torch.tensor(y_actual - observed_prediction, dtype=torch.int)\n"
     ]
    },
    {
     "data": {
      "text/plain": [
       "tensor([ 0,  0,  0,  0,  2,  0,  0,  0,  0,  0,  0,  0,  0,  0,  2,  0,  0,  5,\n",
       "         0,  0,  0,  0,  0,  0,  0,  0,  1,  0,  0,  0,  0,  0,  0,  0,  0,  0,\n",
       "         0,  0,  0,  0,  0,  0,  0,  0,  0,  0,  0,  0,  0,  0,  0,  0, -6,  0,\n",
       "         0,  0,  0,  0,  0,  0,  0,  0,  0,  0,  0,  1,  0,  0,  0,  0,  0,  0,\n",
       "         0,  1,  0,  0,  0,  0,  0,  0,  0,  0,  0,  0,  0,  0,  0,  0,  0,  0,\n",
       "         0,  0,  0], dtype=torch.int32)"
      ]
     },
     "execution_count": 355,
     "metadata": {},
     "output_type": "execute_result"
    }
   ],
   "source": [
    "observed_prediction = pred_means.max(0)[1]\n",
    "torch.tensor(y_actual - observed_prediction, dtype=torch.int)"
   ]
  },
  {
   "cell_type": "code",
   "execution_count": 361,
   "metadata": {},
   "outputs": [
    {
     "name": "stdout",
     "output_type": "stream",
     "text": [
      "We predict the next location (current cluster) with an accuracy of: 92.47%\n",
      "Total Error: 18\n"
     ]
    },
    {
     "name": "stderr",
     "output_type": "stream",
     "text": [
      "/var/folders/9q/4yjzjfts7dl9f0m7h5315w200000gp/T/ipykernel_47478/1160928427.py:2: UserWarning: To copy construct from a tensor, it is recommended to use sourceTensor.clone().detach() or sourceTensor.clone().detach().requires_grad_(True), rather than torch.tensor(sourceTensor).\n",
      "  '%.2f'%((len(y_actual) - torch.count_nonzero(torch.tensor(y_actual - observed_prediction, dtype=torch.int))) / len(y_actual) * 100), \"%\", sep=\"\")\n",
      "/var/folders/9q/4yjzjfts7dl9f0m7h5315w200000gp/T/ipykernel_47478/1160928427.py:4: UserWarning: To copy construct from a tensor, it is recommended to use sourceTensor.clone().detach() or sourceTensor.clone().detach().requires_grad_(True), rather than torch.tensor(sourceTensor).\n",
      "  print(\"Total Error: \", '%d'%((torch.sum(torch.abs(torch.tensor(y_actual - observed_prediction, dtype=torch.int))))), sep=\"\")\n"
     ]
    }
   ],
   "source": [
    "print(\"We predict the next location (current cluster) with an accuracy of: \", \n",
    "      '%.2f'%((len(y_actual) - torch.count_nonzero(torch.tensor(y_actual - observed_prediction, dtype=torch.int))) / len(y_actual) * 100), \"%\", sep=\"\")\n",
    "\n",
    "print(\"Total Error: \", '%d'%((torch.sum(torch.abs(torch.tensor(y_actual - observed_prediction, dtype=torch.int))))), sep=\"\")"
   ]
  },
  {
   "attachments": {},
   "cell_type": "markdown",
   "metadata": {},
   "source": [
    "## Notes"
   ]
  },
  {
   "attachments": {},
   "cell_type": "markdown",
   "metadata": {},
   "source": [
    "- I would like to note that regarding conventional ML baselines for classification, random forest does very well with a prediction accuracy of 91.4%, and after my experiments thus far, I've been able to achieve 92.5% accuracy using a modified Dirichlet Kernel. A marginal increase but an increase nonetheless.\n",
    "\n",
    "- The reason why I encode using just last_one and not last_two or last_three is because these tuples are not considered sequences, rather, are taken into account as a single unit. However, we have empirical evidence that there is better predicitive power when considering the similarity of trip locations as a sequence. For instance, finding similarity between [0, 1, 2] and [0, 1, 3] shows us that we have similarity 2 out of three as opposed to having 0 similarity in terms of same vs not-same thinking. Therefore, I use last_one as a baseline for encoding, but I want to find new methods that allow me to breakdown and compare these sequences (ex: Hamming Distance).\n",
    "\n",
    "- Consider preidction fairness (create frequency table)"
   ]
  }
 ],
 "metadata": {
  "kernelspec": {
   "display_name": "base",
   "language": "python",
   "name": "python3"
  },
  "language_info": {
   "codemirror_mode": {
    "name": "ipython",
    "version": 3
   },
   "file_extension": ".py",
   "mimetype": "text/x-python",
   "name": "python",
   "nbconvert_exporter": "python",
   "pygments_lexer": "ipython3",
   "version": "3.10.9"
  },
  "orig_nbformat": 4
 },
 "nbformat": 4,
 "nbformat_minor": 2
}
